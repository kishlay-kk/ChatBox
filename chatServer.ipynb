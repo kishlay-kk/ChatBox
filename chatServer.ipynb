{
 "cells": [
  {
   "cell_type": "code",
   "execution_count": null,
   "metadata": {},
   "outputs": [],
   "source": [
    "#importing libraries\n",
    "import socket\n",
    "from threading import Thread"
   ]
  },
  {
   "cell_type": "code",
   "execution_count": null,
   "metadata": {},
   "outputs": [],
   "source": [
    "# Defining Containers Sockets \n",
    "clients={}\n",
    "addresses={}\n",
    "\n",
    "HOST = \"127.0.0.1\"\n",
    "PORT = 1242\n",
    "buffer= 512\n",
    "\n",
    "ADDR=(HOST,PORT)\n",
    "s=socket.socket(socket.AF_INET,socket.SOCK_STREAM)\n",
    "s.bind(ADDR)"
   ]
  },
  {
   "cell_type": "markdown",
   "metadata": {},
   "source": [
    "## A Server has three basic jobs--\n",
    "#### 1) Accepting New Connections \n",
    "#### 2) Handling CLients\n",
    "#### 3) Broadcasting Message"
   ]
  },
  {
   "cell_type": "code",
   "execution_count": null,
   "metadata": {},
   "outputs": [],
   "source": [
    "def acc_connections():\n",
    "    while True:\n",
    "        client,client_address = s.accept()\n",
    "        print(f\"{client_address} has connected.\")\n",
    "        client.send(\"Greetings From The Devil\".encode('utf-8'))\n",
    "        client.send(\"Enter your name and press Enter\".encode('utf-8'))\n",
    "        addresses[client]= client_address\n",
    "        Thread(target=handle_client, args=(client, client_address)).start()"
   ]
  },
  {
   "cell_type": "code",
   "execution_count": null,
   "metadata": {},
   "outputs": [],
   "source": [
    "def handle_client(conn,addr):         #conn is the client socket\n",
    "    name=conn.recv(buffer).decode('utf-8')\n",
    "    welcome = 'Welcome %s! If you ever want to quit, type #quit to exit.' % name\n",
    "    conn.send(bytes(welcome, \"utf-8\"))\n",
    "     msg = \"%s from [%s] has joined the chat!\" % (name, \"{}:{}\".format(addr[0], addr[1]))\n",
    "    broadcast(bytes(msg, \"utf8\"))                         #sending message to all other clients\n",
    "    clients[conn] = name\n",
    "    while True:\n",
    "        msg = conn.recv(buffer)\n",
    "        if msg != bytes(\"#quit\", \"utf8\"):\n",
    "            broadcast(msg, name + \": \")\n",
    "        else:\n",
    "            conn.send(bytes(\"#quit\", \"utf8\"))\n",
    "            conn.close()\n",
    "            del clients[conn]\n",
    "            broadcast(bytes(\"%s has left the chat.\" % name, \"utf8\"))\n",
    "            break"
   ]
  },
  {
   "cell_type": "code",
   "execution_count": null,
   "metadata": {},
   "outputs": [],
   "source": [
    "def broadcast(msg, prefix=\"\"):                    # prefix is for name identification.\n",
    "    \"\"\"Broadcasts a message to all the clients.\"\"\"\n",
    "    for sock in clients:\n",
    "        sock.send(bytes(prefix, \"utf8\") + msg)"
   ]
  },
  {
   "cell_type": "code",
   "execution_count": null,
   "metadata": {},
   "outputs": [],
   "source": [
    "if __name__ == \"__main__\":\n",
    "    SOCK.listen(8)  # Listens for 5 connections at max.\n",
    "    print(\"Chat Server has Started !!\")\n",
    "    print(\"Waiting for connections...\")\n",
    "    ACCEPT_THREAD = Thread(target=accept_incoming_connections)\n",
    "    ACCEPT_THREAD.start()                                             # Starts the infinite loop.\n",
    "    ACCEPT_THREAD.join()\n",
    "    SOCK.close()"
   ]
  }
 ],
 "metadata": {
  "kernelspec": {
   "display_name": "Python 3",
   "language": "python",
   "name": "python3"
  },
  "language_info": {
   "codemirror_mode": {
    "name": "ipython",
    "version": 3
   },
   "file_extension": ".py",
   "mimetype": "text/x-python",
   "name": "python",
   "nbconvert_exporter": "python",
   "pygments_lexer": "ipython3",
   "version": "3.7.3"
  }
 },
 "nbformat": 4,
 "nbformat_minor": 2
}
