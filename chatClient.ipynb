{
 "cells": [
  {
   "cell_type": "code",
   "execution_count": null,
   "metadata": {},
   "outputs": [],
   "source": [
    "# import files\n",
    "import tkinter\n",
    "from socket import AF_INET, socket, SOCK_STREAM\n",
    "from threading import Thread"
   ]
  },
  {
   "cell_type": "code",
   "execution_count": null,
   "metadata": {},
   "outputs": [],
   "source": [
    "def receive():\n",
    "    \"\"\" Handles receiving of messages. \"\"\"\n",
    "    while True:\n",
    "        try:\n",
    "            msg = sock.recv(buffer).decode(\"utf8\")\n",
    "            msg_list.insert(tkinter.END, msg)\n",
    "        except OSError:  # Possibly client has left the chat.\n",
    "            break"
   ]
  },
  {
   "cell_type": "code",
   "execution_count": null,
   "metadata": {},
   "outputs": [],
   "source": [
    "def send(event=None):\n",
    "    \"\"\" Handles sending of messages. \"\"\"\n",
    "    msg = my_msg.get()\n",
    "    my_msg.set(\"\")  # Clears input field.\n",
    "    sock.send(bytes(msg, \"utf8\"))\n",
    "    if msg == \"#quit\":\n",
    "        sock.close()\n",
    "        top.quit()"
   ]
  },
  {
   "cell_type": "code",
   "execution_count": null,
   "metadata": {},
   "outputs": [],
   "source": [
    "def on_closing(event=None):\n",
    "    \"\"\" This function is to be called when the window is closed. \"\"\"\n",
    "    my_msg.set(\"#quit\")\n",
    "    send()"
   ]
  },
  {
   "cell_type": "code",
   "execution_count": null,
   "metadata": {},
   "outputs": [],
   "source": [
    "top = tkinter.Tk()\n",
    "top.title(\"Simple Chat Client v1.0\")\n",
    "messages_frame = tkinter.Frame(top)\n",
    "\n",
    "my_msg = tkinter.StringVar()  # For the messages to be sent.\n",
    "my_msg.set(\"\")\n",
    "scrollbar = tkinter.Scrollbar(messages_frame)  # To navigate through past messages.\n",
    "msg_list = tkinter.Listbox(messages_frame, height=15, width=70, yscrollcommand=scrollbar.set)\n",
    "scrollbar.pack(side=tkinter.RIGHT, fill=tkinter.Y)\n",
    "msg_list.pack(side=tkinter.LEFT, fill=tkinter.BOTH)\n",
    "msg_list.pack()\n",
    "\n",
    "messages_frame.pack()\n",
    "\n",
    "button_label = tkinter.Label(top, text=\"Enter Message:\")\n",
    "button_label.pack()\n",
    "entry_field = tkinter.Entry(top, textvariable=my_msg, foreground=\"Red\")\n",
    "entry_field.bind(\"<Return>\", send)\n",
    "entry_field.pack()\n",
    "send_button = tkinter.Button(top, text=\"Send\", command=send)\n",
    "send_button.pack()\n",
    "\n",
    "quit_button = tkinter.Button(top, text=\"Quit\", command=on_closing)\n",
    "quit_button.pack()\n",
    "\n",
    "top.protocol(\"WM_DELETE_WINDOW\", on_closing)\n",
    "\n",
    "\n",
    "\n",
    "HOST = \"127.0.0.1\"\n",
    "PORT = 1242\n",
    "buffer = 512\n",
    "ADDR = (HOST, PORT)\n",
    "sock = socket(AF_INET, SOCK_STREAM)\n",
    "sock.connect(ADDR)\n",
    "\n",
    "receive_thread = Thread(target=receive)\n",
    "receive_thread.start()\n",
    "tkinter.mainloop()  # Starts GUI execution."
   ]
  }
 ],
 "metadata": {
  "kernelspec": {
   "display_name": "Python 3",
   "language": "python",
   "name": "python3"
  },
  "language_info": {
   "codemirror_mode": {
    "name": "ipython",
    "version": 3
   },
   "file_extension": ".py",
   "mimetype": "text/x-python",
   "name": "python",
   "nbconvert_exporter": "python",
   "pygments_lexer": "ipython3",
   "version": "3.7.3"
  }
 },
 "nbformat": 4,
 "nbformat_minor": 2
}
